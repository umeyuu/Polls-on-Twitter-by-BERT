{
 "cells": [
  {
   "cell_type": "code",
   "execution_count": 1,
   "metadata": {},
   "outputs": [
    {
     "name": "stderr",
     "output_type": "stream",
     "text": [
      "/home/umeda-yuusuke469/Polls-on-Twitter-by-BERT/env/lib/python3.8/site-packages/tqdm/auto.py:22: TqdmWarning: IProgress not found. Please update jupyter and ipywidgets. See https://ipywidgets.readthedocs.io/en/stable/user_install.html\n",
      "  from .autonotebook import tqdm as notebook_tqdm\n"
     ]
    }
   ],
   "source": [
    "from transformers import BertForSequenceClassification, BertJapaneseTokenizer\n",
    "from torch.utils.data import SequentialSampler\n",
    "from src.dataset import My_DATASET\n",
    "import pandas as pd\n",
    "import matplotlib.pyplot as plt\n",
    "import torch"
   ]
  },
  {
   "attachments": {},
   "cell_type": "markdown",
   "metadata": {},
   "source": [
    "# Attentionの可視化"
   ]
  },
  {
   "cell_type": "code",
   "execution_count": 36,
   "metadata": {},
   "outputs": [],
   "source": [
    "MODEL_NAME = 'cl-tohoku/bert-base-japanese-whole-word-masking'\n",
    "model_path = 'save_model/best_model.pth'\n",
    "data_path = 'DATA/serched_tweet/イーロンマスク.csv'"
   ]
  },
  {
   "cell_type": "code",
   "execution_count": 37,
   "metadata": {},
   "outputs": [
    {
     "name": "stderr",
     "output_type": "stream",
     "text": [
      "Some weights of the model checkpoint at cl-tohoku/bert-base-japanese-whole-word-masking were not used when initializing BertForSequenceClassification: ['cls.predictions.transform.dense.bias', 'cls.predictions.decoder.weight', 'cls.predictions.transform.LayerNorm.weight', 'cls.predictions.bias', 'cls.predictions.transform.dense.weight', 'cls.seq_relationship.weight', 'cls.seq_relationship.bias', 'cls.predictions.transform.LayerNorm.bias']\n",
      "- This IS expected if you are initializing BertForSequenceClassification from the checkpoint of a model trained on another task or with another architecture (e.g. initializing a BertForSequenceClassification model from a BertForPreTraining model).\n",
      "- This IS NOT expected if you are initializing BertForSequenceClassification from the checkpoint of a model that you expect to be exactly identical (initializing a BertForSequenceClassification model from a BertForSequenceClassification model).\n",
      "Some weights of BertForSequenceClassification were not initialized from the model checkpoint at cl-tohoku/bert-base-japanese-whole-word-masking and are newly initialized: ['classifier.bias', 'classifier.weight']\n",
      "You should probably TRAIN this model on a down-stream task to be able to use it for predictions and inference.\n",
      "Truncation was not explicitly activated but `max_length` is provided a specific value, please use `truncation=True` to explicitly truncate examples to max length. Defaulting to 'longest_first' truncation strategy. If you encode pairs of sequences (GLUE-style) with the tokenizer you can select this strategy more precisely by providing a specific strategy to `truncation`.\n",
      "/home/umeda-yuusuke469/Polls-on-Twitter-by-BERT/env/lib/python3.8/site-packages/transformers/tokenization_utils_base.py:2336: FutureWarning: The `pad_to_max_length` argument is deprecated and will be removed in a future version, use `padding=True` or `padding='longest'` to pad to the longest sequence in the batch, or use `padding='max_length'` to pad to a max length. In this case, you can give a specific length with `max_length` (e.g. `max_length=45`) or leave max_length to None to pad to the maximal input size of the model (e.g. 512 for Bert).\n",
      "  warnings.warn(\n"
     ]
    }
   ],
   "source": [
    "# モデルを読み込む\n",
    "model = BertForSequenceClassification.from_pretrained(\n",
    "        MODEL_NAME, # 日本語Pre trainedモデルの指定\n",
    "        num_labels = 3, # ラベル数\n",
    "        output_attentions = False, # アテンションベクトルを出力するか\n",
    "        output_hidden_states = False, # 隠れ層を出力するか\n",
    "    )\n",
    "model.load_state_dict(torch.load(model_path))\n",
    "tokenizer = BertJapaneseTokenizer.from_pretrained(MODEL_NAME)\n",
    "df = pd.read_csv(data_path)\n",
    "df.columns = ['tweet']\n",
    "tweets = df.tweet.values.tolist()\n",
    "# データローダー\n",
    "dataset = My_DATASET(MODEL_NAME, tweets)"
   ]
  },
  {
   "cell_type": "code",
   "execution_count": 38,
   "metadata": {},
   "outputs": [],
   "source": [
    "def highlight(word, attn):\n",
    "    html_color = '#%02X%02X%02X' % (255, int(255*(1 - attn)), int(255*(1 - attn)))\n",
    "    return f'<span style=\"background-color: {html_color}\">{word}</span>'\n",
    "\n",
    "def id2label(id):\n",
    "    if id == 0:\n",
    "        return 'positive'\n",
    "    elif id == 1:\n",
    "        return 'negative'\n",
    "    elif id == 2:\n",
    "        return 'neutral'"
   ]
  },
  {
   "cell_type": "code",
   "execution_count": 42,
   "metadata": {},
   "outputs": [
    {
     "data": {
      "text/plain": [
       "'ゴールを設定するなら、イーロンマスクのゴールぐらいが丁度いい。火星を目指す。素晴らしいゴールです。'"
      ]
     },
     "execution_count": 42,
     "metadata": {},
     "output_type": "execute_result"
    }
   ],
   "source": [
    "tweets[69]"
   ]
  },
  {
   "cell_type": "code",
   "execution_count": 43,
   "metadata": {},
   "outputs": [],
   "source": [
    "ind = 69\n",
    "input_ids, input_mask = dataset[ind]\n",
    "output = model(input_ids.unsqueeze(0),\n",
    "            token_type_ids=None, \n",
    "            attention_mask=input_mask.unsqueeze(0),\n",
    "            output_attentions=True)\n",
    "attention_weight = output.attentions[-1]\n",
    "id = output.logits.argmax(dim=1).item()\n",
    "label = id2label(id)\n",
    "# 文章の長さ分のzero tensorを宣言\n",
    "seq_len = attention_weight.size()[2]\n",
    "tmp = torch.zeros(seq_len)\n",
    "\n",
    "for i in range(12):\n",
    "    tmp += attention_weight[0, i, 0, :]\n",
    "\n",
    "all_attens = tmp[input_mask==1]\n",
    "att_max = all_attens.max().item()\n",
    "att_min = all_attens.min().item()\n",
    "all_attens = (all_attens-att_min)/(att_max-att_min)\n",
    "\n",
    "html = f'<big>推論ラベル：{label}</big><br>'\n",
    "for ids, attn in zip(input_ids, all_attens):\n",
    "    word = tokenizer.convert_ids_to_tokens([ids.numpy().tolist()])[0]\n",
    "    if word == \"[SEP]\":\n",
    "        break\n",
    "    html += highlight(word, attn)\n",
    "    # print(word, attn)\n"
   ]
  },
  {
   "cell_type": "code",
   "execution_count": 44,
   "metadata": {},
   "outputs": [
    {
     "data": {
      "text/html": [
       "<big>推論ラベル：positive</big><br><span style=\"background-color: #FFC4C4\">[CLS]</span><span style=\"background-color: #FFEDED\">ゴール</span><span style=\"background-color: #FFFEFE\">を</span><span style=\"background-color: #FFF7F7\">設定</span><span style=\"background-color: #FFFAFA\">する</span><span style=\"background-color: #FFF1F1\">なら</span><span style=\"background-color: #FFDDDD\">、</span><span style=\"background-color: #FFF8F8\">イー</span><span style=\"background-color: #FFFBFB\">##ロン</span><span style=\"background-color: #FFFFFF\">##マス</span><span style=\"background-color: #FFFBFB\">##ク</span><span style=\"background-color: #FFF1F1\">の</span><span style=\"background-color: #FFE5E5\">ゴール</span><span style=\"background-color: #FF9C9C\">ぐらい</span><span style=\"background-color: #FFC9C9\">が</span><span style=\"background-color: #FFBDBD\">丁</span><span style=\"background-color: #FF8F8F\">##度</span><span style=\"background-color: #FF9898\">いい</span><span style=\"background-color: #FFA2A2\">。</span><span style=\"background-color: #FFDBDB\">火星</span><span style=\"background-color: #FFE2E2\">を</span><span style=\"background-color: #FFAFAF\">目指す</span><span style=\"background-color: #FF7F7F\">。</span><span style=\"background-color: #FF2424\">素晴らしい</span><span style=\"background-color: #FFB8B8\">ゴール</span><span style=\"background-color: #FF4949\">です</span><span style=\"background-color: #FFB7B7\">。</span>"
      ],
      "text/plain": [
       "<IPython.core.display.HTML object>"
      ]
     },
     "metadata": {},
     "output_type": "display_data"
    }
   ],
   "source": [
    "from IPython.display import HTML\n",
    "display(HTML(html))"
   ]
  },
  {
   "cell_type": "code",
   "execution_count": null,
   "metadata": {},
   "outputs": [],
   "source": []
  }
 ],
 "metadata": {
  "kernelspec": {
   "display_name": "Python 3.8.10 ('env': venv)",
   "language": "python",
   "name": "python3"
  },
  "language_info": {
   "codemirror_mode": {
    "name": "ipython",
    "version": 3
   },
   "file_extension": ".py",
   "mimetype": "text/x-python",
   "name": "python",
   "nbconvert_exporter": "python",
   "pygments_lexer": "ipython3",
   "version": "3.8.10"
  },
  "orig_nbformat": 4,
  "vscode": {
   "interpreter": {
    "hash": "8fa68adc62e7031bae3ea93887c966b90b33c87a0f2a1bab09fad928a22685fc"
   }
  }
 },
 "nbformat": 4,
 "nbformat_minor": 2
}
